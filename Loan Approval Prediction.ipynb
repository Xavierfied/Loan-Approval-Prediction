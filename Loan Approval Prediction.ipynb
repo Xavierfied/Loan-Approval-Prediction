{
 "cells": [
  {
   "cell_type": "code",
   "id": "initial_id",
   "metadata": {
    "collapsed": true,
    "ExecuteTime": {
     "end_time": "2025-09-16T14:36:17.740017Z",
     "start_time": "2025-09-16T14:36:17.694590Z"
    }
   },
   "source": [
    "import numpy as np\n",
    "import pandas as pd\n",
    "import matplotlib.pyplot as plt\n",
    "import seaborn as sns\n",
    "import joblib"
   ],
   "execution_count": 1,
   "outputs": []
  },
  {
   "cell_type": "code",
   "id": "56f428d2c67427ee",
   "metadata": {
    "ExecuteTime": {
     "end_time": "2025-09-16T14:36:18.540163Z",
     "start_time": "2025-09-16T14:36:17.741026Z"
    }
   },
   "source": [
    "from sklearn.model_selection import train_test_split\n",
    "from sklearn.preprocessing import LabelEncoder, OneHotEncoder, StandardScaler\n",
    "from sklearn.linear_model import LogisticRegression\n",
    "from sklearn.compose import ColumnTransformer\n",
    "from sklearn.tree import DecisionTreeClassifier\n",
    "from sklearn.metrics import classification_report\n",
    "from sklearn.pipeline import Pipeline\n",
    "from sklearn.impute import SimpleImputer\n",
    "from imblearn.over_sampling import SMOTE"
   ],
   "execution_count": 2,
   "outputs": []
  },
  {
   "cell_type": "markdown",
   "id": "2837aa0678236c50",
   "metadata": {},
   "source": [
    "___\n",
    "# DATA PREPROCESSING\n",
    "___"
   ]
  },
  {
   "cell_type": "code",
   "id": "bd6c13d62408147d",
   "metadata": {
    "ExecuteTime": {
     "end_time": "2025-09-16T14:36:18.547677Z",
     "start_time": "2025-09-16T14:36:18.542680Z"
    }
   },
   "source": [
    "DATA = 'loan_approval_dataset.csv'"
   ],
   "execution_count": 3,
   "outputs": []
  },
  {
   "cell_type": "code",
   "id": "a7e801d5a681c0d9",
   "metadata": {
    "ExecuteTime": {
     "end_time": "2025-09-16T14:36:18.565651Z",
     "start_time": "2025-09-16T14:36:18.548183Z"
    }
   },
   "source": [
    "df = pd.read_csv(DATA)"
   ],
   "execution_count": 4,
   "outputs": []
  },
  {
   "cell_type": "code",
   "id": "566edc31a04769c",
   "metadata": {
    "ExecuteTime": {
     "end_time": "2025-09-16T14:40:20.876266Z",
     "start_time": "2025-09-16T14:40:20.867184Z"
    }
   },
   "source": "df.min()",
   "execution_count": 6,
   "outputs": []
  },
  {
   "cell_type": "code",
   "id": "8e6512b2082d4413",
   "metadata": {
    "ExecuteTime": {
     "end_time": "2025-09-07T04:12:35.496138Z",
     "start_time": "2025-09-07T04:12:35.468700Z"
    }
   },
   "source": [
    "df.describe()"
   ],
   "execution_count": 6,
   "outputs": []
  },
  {
   "cell_type": "code",
   "id": "d40b49c8eb595c2",
   "metadata": {
    "ExecuteTime": {
     "end_time": "2025-09-07T04:12:35.505885Z",
     "start_time": "2025-09-07T04:12:35.498149Z"
    }
   },
   "source": [
    "df.isnull().sum()"
   ],
   "execution_count": 7,
   "outputs": []
  },
  {
   "cell_type": "code",
   "id": "3c33c5ebf8dc280c",
   "metadata": {
    "ExecuteTime": {
     "end_time": "2025-09-07T04:12:35.511443Z",
     "start_time": "2025-09-07T04:12:35.506895Z"
    }
   },
   "source": [
    "df.drop(columns='loan_id', inplace=True)"
   ],
   "execution_count": 8,
   "outputs": []
  },
  {
   "cell_type": "code",
   "id": "6796a3b565889b21",
   "metadata": {
    "ExecuteTime": {
     "end_time": "2025-09-07T04:12:35.515669Z",
     "start_time": "2025-09-07T04:12:35.512450Z"
    }
   },
   "source": [
    "cols = df.columns"
   ],
   "execution_count": 9,
   "outputs": []
  },
  {
   "cell_type": "code",
   "id": "c9ada9d7b1b990e",
   "metadata": {
    "ExecuteTime": {
     "end_time": "2025-09-07T04:12:35.522219Z",
     "start_time": "2025-09-07T04:12:35.516683Z"
    }
   },
   "source": [
    "x_cols = cols.drop(' loan_status')"
   ],
   "execution_count": 10,
   "outputs": []
  },
  {
   "cell_type": "code",
   "id": "c43ca71c25aa50cb",
   "metadata": {
    "ExecuteTime": {
     "end_time": "2025-09-07T04:12:35.527234Z",
     "start_time": "2025-09-07T04:12:35.522761Z"
    }
   },
   "source": [
    "numerical_cols = df.select_dtypes(include=['number']).columns"
   ],
   "execution_count": 11,
   "outputs": []
  },
  {
   "cell_type": "code",
   "id": "312d96c27dabad4f",
   "metadata": {
    "ExecuteTime": {
     "end_time": "2025-09-07T04:12:35.534092Z",
     "start_time": "2025-09-07T04:12:35.528242Z"
    }
   },
   "source": [
    "numerical_cols"
   ],
   "execution_count": 12,
   "outputs": []
  },
  {
   "cell_type": "code",
   "id": "8350d6272e480179",
   "metadata": {
    "ExecuteTime": {
     "end_time": "2025-09-07T04:12:35.541115Z",
     "start_time": "2025-09-07T04:12:35.536104Z"
    }
   },
   "source": [
    "categorical_cols = df.select_dtypes(include=['object']).columns\n",
    "categorical_cols"
   ],
   "execution_count": 13,
   "outputs": []
  },
  {
   "cell_type": "code",
   "id": "f637b636de80fe42",
   "metadata": {
    "ExecuteTime": {
     "end_time": "2025-09-07T04:12:35.545942Z",
     "start_time": "2025-09-07T04:12:35.542122Z"
    }
   },
   "source": [
    "categorical_colss = categorical_cols.drop(' loan_status')"
   ],
   "execution_count": 14,
   "outputs": []
  },
  {
   "cell_type": "code",
   "id": "8df629aa16e993f",
   "metadata": {
    "ExecuteTime": {
     "end_time": "2025-09-07T04:12:35.551976Z",
     "start_time": "2025-09-07T04:12:35.546949Z"
    }
   },
   "source": [
    "categorical_colss"
   ],
   "execution_count": 15,
   "outputs": []
  },
  {
   "cell_type": "markdown",
   "id": "543b3a0e080a3632",
   "metadata": {},
   "source": [
    "Preparing the Encoding Preprocessor:"
   ]
  },
  {
   "cell_type": "code",
   "id": "df91be6bbfd8569c",
   "metadata": {
    "ExecuteTime": {
     "end_time": "2025-09-07T04:12:35.558006Z",
     "start_time": "2025-09-07T04:12:35.553495Z"
    }
   },
   "source": [
    "# Prepping for \"X\"\n",
    "\n",
    "numerical_transformer = Pipeline(steps=[\n",
    "    ('imputer', SimpleImputer(strategy='median')),\n",
    "    ('scalar', StandardScaler())\n",
    "])\n",
    "\n",
    "categorical_transformer = Pipeline(steps=[\n",
    "    ('imputer', SimpleImputer(strategy='most_frequent')),\n",
    "    ('onehot', OneHotEncoder(handle_unknown='ignore'))\n",
    "])\n",
    "\n",
    "preprocessor = ColumnTransformer(\n",
    "    transformers=[\n",
    "        ('cat', categorical_transformer, categorical_colss),\n",
    "        ('num', numerical_transformer, numerical_cols)\n",
    "        \n",
    "    ],\n",
    "    remainder='passthrough'\n",
    ")\n",
    "\n",
    "# Prepping for \"y\"\n",
    "le = LabelEncoder()"
   ],
   "execution_count": 16,
   "outputs": []
  },
  {
   "cell_type": "code",
   "id": "f5ea8eb38f57a845",
   "metadata": {
    "ExecuteTime": {
     "end_time": "2025-09-07T04:12:35.564485Z",
     "start_time": "2025-09-07T04:12:35.559017Z"
    }
   },
   "source": [
    "X = df.iloc[:, :-1]\n",
    "y = df.iloc[:,-1]"
   ],
   "execution_count": 17,
   "outputs": []
  },
  {
   "cell_type": "markdown",
   "id": "32c6c410c012328e",
   "metadata": {},
   "source": [
    "___\n",
    "# Train Test Split\n",
    "___"
   ]
  },
  {
   "cell_type": "code",
   "id": "77f0a459d6613f5f",
   "metadata": {
    "ExecuteTime": {
     "end_time": "2025-09-07T04:12:35.573792Z",
     "start_time": "2025-09-07T04:12:35.565500Z"
    }
   },
   "source": [
    "X_train, X_test, y_train, y_test = train_test_split(X, y, test_size=0.2, random_state=42)"
   ],
   "execution_count": 18,
   "outputs": []
  },
  {
   "cell_type": "markdown",
   "id": "2ccb5a5b0eb1f90f",
   "metadata": {},
   "source": [
    "Encoding the Sets"
   ]
  },
  {
   "cell_type": "code",
   "id": "8f6bf840f56920e4",
   "metadata": {
    "ExecuteTime": {
     "end_time": "2025-09-07T04:12:35.602884Z",
     "start_time": "2025-09-07T04:12:35.574800Z"
    }
   },
   "source": [
    "X_train_transformed = preprocessor.fit_transform(X_train)\n",
    "X_test_transformed = preprocessor.transform(X_test)"
   ],
   "execution_count": 19,
   "outputs": []
  },
  {
   "cell_type": "code",
   "id": "32ff5c0e8f74fbfe",
   "metadata": {
    "ExecuteTime": {
     "end_time": "2025-09-07T04:12:35.608006Z",
     "start_time": "2025-09-07T04:12:35.603893Z"
    }
   },
   "source": [
    "y_train_transformed = le.fit_transform(y_train)\n",
    "y_test_transformed = le.transform(y_test)"
   ],
   "execution_count": 20,
   "outputs": []
  },
  {
   "cell_type": "markdown",
   "id": "103838192ae64f8",
   "metadata": {},
   "source": [
    "___\n",
    "# Model Training\n",
    "___"
   ]
  },
  {
   "cell_type": "code",
   "id": "5255f692ebac99d7",
   "metadata": {
    "ExecuteTime": {
     "end_time": "2025-09-07T04:12:35.613564Z",
     "start_time": "2025-09-07T04:12:35.609015Z"
    }
   },
   "source": [
    "lgr_model = LogisticRegression(random_state=42)"
   ],
   "execution_count": 21,
   "outputs": []
  },
  {
   "cell_type": "code",
   "id": "1b3894bbc11ebdbd",
   "metadata": {
    "ExecuteTime": {
     "end_time": "2025-09-07T04:12:35.668709Z",
     "start_time": "2025-09-07T04:12:35.618576Z"
    }
   },
   "source": [
    "lgr_model.fit(X_train_transformed, y_train_transformed)"
   ],
   "execution_count": 22,
   "outputs": []
  },
  {
   "cell_type": "markdown",
   "id": "d6ffb8e66ef133c5",
   "metadata": {},
   "source": [
    "___\n",
    "# Predictions and Evaluations\n",
    "___"
   ]
  },
  {
   "cell_type": "markdown",
   "id": "c43dd92119dfcb8e",
   "metadata": {},
   "source": [
    "Evals:"
   ]
  },
  {
   "cell_type": "code",
   "id": "6c81644775327387",
   "metadata": {
    "ExecuteTime": {
     "end_time": "2025-09-07T04:12:35.738341Z",
     "start_time": "2025-09-07T04:12:35.670244Z"
    }
   },
   "source": [
    "lgr_y_pred = lgr_model.predict(X_test_transformed) "
   ],
   "execution_count": 23,
   "outputs": []
  },
  {
   "cell_type": "code",
   "id": "5d7721d3af4bfb5d",
   "metadata": {
    "ExecuteTime": {
     "end_time": "2025-09-07T04:12:35.753886Z",
     "start_time": "2025-09-07T04:12:35.739351Z"
    }
   },
   "source": [
    "print(\"Classification Report:\")\n",
    "print(classification_report(y_test_transformed, lgr_y_pred))"
   ],
   "execution_count": 24,
   "outputs": []
  },
  {
   "cell_type": "markdown",
   "id": "75ccfb81c52e6ce6",
   "metadata": {},
   "source": [
    "preds:"
   ]
  },
  {
   "cell_type": "code",
   "id": "c66df07e18559439",
   "metadata": {
    "ExecuteTime": {
     "end_time": "2025-09-07T04:12:35.759910Z",
     "start_time": "2025-09-07T04:12:35.755403Z"
    }
   },
   "source": [
    "x_cols"
   ],
   "execution_count": 25,
   "outputs": []
  },
  {
   "cell_type": "markdown",
   "id": "240fee5fdc00cd22",
   "metadata": {},
   "source": [
    "2, Graduate, Yes,9100000,31500000,14,679,10800000,16600000,20900000,5000000, Approved"
   ]
  },
  {
   "cell_type": "code",
   "id": "477921d59c3a65ed",
   "metadata": {
    "ExecuteTime": {
     "end_time": "2025-09-07T04:12:35.765153Z",
     "start_time": "2025-09-07T04:12:35.760944Z"
    }
   },
   "source": [
    "prediction_data = [[\n",
    "    2, 'Graduate', 'Yes',100000,31500000,14,500,1008000,100000,20900000,5000000\n",
    "]]"
   ],
   "execution_count": 26,
   "outputs": []
  },
  {
   "cell_type": "code",
   "id": "155f32be2d830a5b",
   "metadata": {
    "ExecuteTime": {
     "end_time": "2025-09-07T04:12:35.772183Z",
     "start_time": "2025-09-07T04:12:35.766161Z"
    }
   },
   "source": [
    "new_df = pd.DataFrame(prediction_data, columns=x_cols)"
   ],
   "execution_count": 27,
   "outputs": []
  },
  {
   "cell_type": "code",
   "id": "8ee52162df16536b",
   "metadata": {
    "ExecuteTime": {
     "end_time": "2025-09-07T04:12:35.781723Z",
     "start_time": "2025-09-07T04:12:35.772689Z"
    }
   },
   "source": [
    "transformed_new_df = preprocessor.transform(new_df)"
   ],
   "execution_count": 28,
   "outputs": []
  },
  {
   "cell_type": "code",
   "id": "51ca0e0ab666c224",
   "metadata": {
    "ExecuteTime": {
     "end_time": "2025-09-07T04:12:35.787173Z",
     "start_time": "2025-09-07T04:12:35.782729Z"
    }
   },
   "source": [
    "\n",
    "status_mapping = {\n",
    "    1: 'Rejected',\n",
    "    0: 'Approved'\n",
    "}"
   ],
   "execution_count": 29,
   "outputs": []
  },
  {
   "cell_type": "code",
   "id": "660f753623fbd1f1",
   "metadata": {
    "ExecuteTime": {
     "end_time": "2025-09-07T04:12:35.793095Z",
     "start_time": "2025-09-07T04:12:35.788181Z"
    }
   },
   "source": [
    "pred = lgr_model.predict(transformed_new_df)"
   ],
   "execution_count": 30,
   "outputs": []
  },
  {
   "cell_type": "code",
   "id": "8152795a3984227c",
   "metadata": {
    "ExecuteTime": {
     "end_time": "2025-09-07T04:12:35.799058Z",
     "start_time": "2025-09-07T04:12:35.794103Z"
    }
   },
   "source": [
    "pred"
   ],
   "execution_count": 31,
   "outputs": []
  },
  {
   "cell_type": "code",
   "id": "7b21c11a5ed2783f",
   "metadata": {
    "ExecuteTime": {
     "end_time": "2025-09-07T04:12:35.806111Z",
     "start_time": "2025-09-07T04:12:35.800577Z"
    }
   },
   "source": [
    "status_mapping[pred[0]]"
   ],
   "execution_count": 32,
   "outputs": []
  },
  {
   "cell_type": "markdown",
   "id": "2c6c3638eb87e52f",
   "metadata": {},
   "source": [
    "___\n",
    "# Bonus - 1\n",
    "___\n",
    "Using SMOTE to Address Data Imbalance:\n",
    "__"
   ]
  },
  {
   "cell_type": "code",
   "id": "ec54ed90c25db07a",
   "metadata": {
    "ExecuteTime": {
     "end_time": "2025-09-07T04:12:35.811667Z",
     "start_time": "2025-09-07T04:12:35.806618Z"
    }
   },
   "source": [
    "# Shape of our train data before Balancing \n",
    "print(f\"Shape of X_train Dataset before SMOTE: {X_train_transformed.shape}\")\n",
    "print(f\"Shape of y_train Dataset before SMOTE: {y_train_transformed.shape}\")"
   ],
   "execution_count": 33,
   "outputs": []
  },
  {
   "cell_type": "code",
   "id": "3e6d37f14624cc17",
   "metadata": {
    "ExecuteTime": {
     "end_time": "2025-09-07T04:12:35.851294Z",
     "start_time": "2025-09-07T04:12:35.812675Z"
    }
   },
   "source": [
    "smote = SMOTE(random_state=42)\n",
    "\n",
    "X_train_transformed_resampled, y_train_transformed_resampled = smote.fit_resample(X_train_transformed, y_train_transformed)"
   ],
   "execution_count": 34,
   "outputs": []
  },
  {
   "cell_type": "code",
   "id": "6ec5e53caa1f50b9",
   "metadata": {
    "ExecuteTime": {
     "end_time": "2025-09-07T04:12:35.857270Z",
     "start_time": "2025-09-07T04:12:35.852813Z"
    }
   },
   "source": [
    "print(f\"Shape of X_train Dataset After SMOTE: {X_train_transformed_resampled.shape}\")\n",
    "print(f\"Shape of y_train Dataset After SMOTE: {y_train_transformed_resampled.shape}\")"
   ],
   "execution_count": 35,
   "outputs": []
  },
  {
   "cell_type": "code",
   "id": "9f820fe098bea9af",
   "metadata": {
    "ExecuteTime": {
     "end_time": "2025-09-07T04:12:35.880842Z",
     "start_time": "2025-09-07T04:12:35.858277Z"
    }
   },
   "source": [
    "# Training a new Logistic Regression Model on SMOTE SAMPLING\n",
    "smote_lgr_model = LogisticRegression(random_state=42)\n",
    "\n",
    "smote_lgr_model.fit(X_train_transformed_resampled, y_train_transformed_resampled)"
   ],
   "execution_count": 36,
   "outputs": []
  },
  {
   "cell_type": "markdown",
   "id": "5359a8d6dbf632f9",
   "metadata": {},
   "source": [
    "Getting Classification Reports of the Model"
   ]
  },
  {
   "cell_type": "code",
   "id": "739b924637a1f47e",
   "metadata": {
    "ExecuteTime": {
     "end_time": "2025-09-07T04:12:35.886305Z",
     "start_time": "2025-09-07T04:12:35.881358Z"
    }
   },
   "source": [
    "smote_lgr_y_pred = smote_lgr_model.predict(X_test_transformed)"
   ],
   "execution_count": 37,
   "outputs": []
  },
  {
   "cell_type": "code",
   "id": "863dc6697be87cc9",
   "metadata": {
    "ExecuteTime": {
     "end_time": "2025-09-07T04:12:35.899342Z",
     "start_time": "2025-09-07T04:12:35.887313Z"
    }
   },
   "source": [
    "print(classification_report(y_test_transformed, smote_lgr_y_pred))"
   ],
   "execution_count": 38,
   "outputs": []
  },
  {
   "cell_type": "markdown",
   "id": "284b85935c978c75",
   "metadata": {},
   "source": [
    "___\n",
    "# Conclusion:\n",
    "\n",
    "- Now as seen above, the Logistic Regression Model with normal data Gives out an F-1 Score of 0.90. Thus the full report as follows:\n",
    "    - Normal LGR Classification Report:\n",
    "        \n",
    "```              precision    recall  f1-score   support\n",
    "\n",
    "           0       0.92      0.93      0.92       536\n",
    "           1       0.88      0.86      0.87       318\n",
    "    accuracy                           0.91       854\n",
    "   macro avg       0.90      0.90      0.90       854\n",
    "weighted avg       0.90      0.91      0.90       854\n",
    "```\n",
    "\n",
    "- And for the Logistic Model with SMOTE Dataset, we get an F-1 Score of 0.91. Thus, Full report as Follows:\n",
    "    - SMOTE LGR CLASSIFICATION REPORT:\n",
    "\n",
    "```              precision    recall  f1-score   support\n",
    "\n",
    "           0       0.95      0.91      0.93       536\n",
    "           1       0.85      0.91      0.88       318\n",
    "    accuracy                           0.91       854\n",
    "   macro avg       0.90      0.91      0.90       854\n",
    "weighted avg       0.91      0.91      0.91       854  \n",
    "```\n",
    "\n",
    "    \n",
    "In a nutshell, using SMOTE Technique, we did better results however the increase was minimal but still since both the Techniques took minimal time, we will opt for higher accuracy\n"
   ]
  },
  {
   "cell_type": "markdown",
   "id": "6004272d986f6536",
   "metadata": {},
   "source": [
    "___\n",
    "# Bonus - 2\n",
    "___\n",
    "Training Decision Tree:\n",
    "__"
   ]
  },
  {
   "cell_type": "code",
   "id": "51b5041daacba722",
   "metadata": {
    "ExecuteTime": {
     "end_time": "2025-09-07T04:12:35.905916Z",
     "start_time": "2025-09-07T04:12:35.900360Z"
    }
   },
   "source": [
    "# We will be using the SMOTE data as it will be more ideal in this scenario\n",
    "\n",
    "smote_dt_model = DecisionTreeClassifier(max_depth=7, random_state=42)"
   ],
   "execution_count": 39,
   "outputs": []
  },
  {
   "cell_type": "code",
   "id": "78ddc6f030eaa02",
   "metadata": {
    "ExecuteTime": {
     "end_time": "2025-09-07T04:12:35.923184Z",
     "start_time": "2025-09-07T04:12:35.907429Z"
    }
   },
   "source": [
    "smote_dt_model.fit(X_train_transformed_resampled, y_train_transformed_resampled)\n",
    "print(\"Model Trained!!\")"
   ],
   "execution_count": 40,
   "outputs": []
  },
  {
   "cell_type": "markdown",
   "id": "7ef5141a9c7ec5ce",
   "metadata": {},
   "source": [
    "___\n",
    "Getting Classification Report"
   ]
  },
  {
   "cell_type": "code",
   "id": "8eedfce1271cf6d5",
   "metadata": {
    "ExecuteTime": {
     "end_time": "2025-09-07T17:37:34.644678Z",
     "start_time": "2025-09-07T17:37:34.638642Z"
    }
   },
   "source": [
    "smote_dt_y_pred = smote_dt_model.predict(X_test_transformed)"
   ],
   "execution_count": 49,
   "outputs": []
  },
  {
   "cell_type": "code",
   "id": "8a23c0606299ca19",
   "metadata": {
    "ExecuteTime": {
     "end_time": "2025-09-07T17:37:30.881029Z",
     "start_time": "2025-09-07T17:37:30.818605Z"
    }
   },
   "source": [
    "print(\"Classification Reports: \")\n",
    "print(classification_report(y_test_transformed, smote_dt_y_pred))"
   ],
   "execution_count": 48,
   "outputs": []
  },
  {
   "cell_type": "markdown",
   "id": "53da0c308f9f6075",
   "metadata": {},
   "source": [
    "___\n",
    "Using the Model to get Prediction on unseen data: Approved: 0 AND Rejected: 1"
   ]
  },
  {
   "cell_type": "code",
   "id": "f43c672136c9f2f9",
   "metadata": {
    "ExecuteTime": {
     "end_time": "2025-09-09T05:06:01.435745Z",
     "start_time": "2025-09-09T05:06:01.430746Z"
    }
   },
   "source": "pred_data = [[1, \"Not Graduate\", \"Yes\", 8700000, 28300000, 36, 700, 20400000, 13600000, 27900000, 10200000]]",
   "execution_count": 60,
   "outputs": []
  },
  {
   "cell_type": "code",
   "id": "c3285cf97dba85dc",
   "metadata": {
    "ExecuteTime": {
     "end_time": "2025-09-09T05:06:01.631580Z",
     "start_time": "2025-09-09T05:06:01.625640Z"
    }
   },
   "source": [
    "new_df = pd.DataFrame(pred_data, columns=x_cols)"
   ],
   "execution_count": 61,
   "outputs": []
  },
  {
   "cell_type": "code",
   "id": "b87dab4432b5262f",
   "metadata": {
    "ExecuteTime": {
     "end_time": "2025-09-09T05:06:01.832751Z",
     "start_time": "2025-09-09T05:06:01.812750Z"
    }
   },
   "source": [
    "transformed_new_df = preprocessor.transform(new_df)"
   ],
   "execution_count": 62,
   "outputs": []
  },
  {
   "cell_type": "code",
   "id": "4a33e06bd9d6b91d",
   "metadata": {
    "ExecuteTime": {
     "end_time": "2025-09-09T05:06:02.027983Z",
     "start_time": "2025-09-09T05:06:02.022781Z"
    }
   },
   "source": [
    "status_mapping[smote_dt_model.predict(transformed_new_df)[0]]"
   ],
   "execution_count": 63,
   "outputs": []
  },
  {
   "cell_type": "markdown",
   "id": "7582d04b995b9e7b",
   "metadata": {},
   "source": [
    "___\n",
    "# Final Verdict:\n",
    "\n",
    "- Now as seen above, the Decision Tree Classification with SMOTE data Gives out an F-1 Score of 0.96. Thus the full report as follows:\n",
    "    - SMOTE Decision Tree Classification Report:\n",
    "        \n",
    "```              precision    recall  f1-score   support\n",
    "\n",
    "           0       0.99      0.96      0.97       536\n",
    "           1       0.93      0.98      0.95       318\n",
    "\n",
    "    accuracy                           0.96       854\n",
    "   macro avg       0.96      0.97      0.96       854\n",
    "weighted avg       0.96      0.96      0.96       854\n",
    "```\n",
    "\n",
    "- And for the Logistic Model with SMOTE Dataset, we get an F-1 Score of 0.91. Thus, Full report as Follows:\n",
    "    - SMOTE LGR CLASSIFICATION REPORT:\n",
    "\n",
    "```              precision    recall  f1-score   support\n",
    "\n",
    "           0       0.95      0.91      0.93       536\n",
    "           1       0.85      0.91      0.88       318\n",
    "    accuracy                           0.91       854\n",
    "   macro avg       0.90      0.91      0.90       854\n",
    "weighted avg       0.91      0.91      0.91       854  \n",
    "```\n",
    "\n",
    "    \n",
    "In a nutshell, using Decision Tree Gives us better accuracy reports and thus will be e better choice for choosing an Ai Model for Real World Application\n",
    "___"
   ]
  },
  {
   "cell_type": "code",
   "id": "c6e41ac5b76c5f71",
   "metadata": {
    "ExecuteTime": {
     "end_time": "2025-09-07T04:12:35.975683Z",
     "start_time": "2025-09-07T04:12:35.972129Z"
    }
   },
   "source": "print(\"Hello\")",
   "execution_count": 47,
   "outputs": []
  },
  {
   "metadata": {
    "ExecuteTime": {
     "end_time": "2025-09-08T05:51:39.092916Z",
     "start_time": "2025-09-08T05:51:39.076918Z"
    }
   },
   "cell_type": "code",
   "source": "x_cols",
   "id": "721da1adce39b051",
   "execution_count": 50,
   "outputs": []
  },
  {
   "metadata": {
    "ExecuteTime": {
     "end_time": "2025-09-08T05:54:11.375008Z",
     "start_time": "2025-09-08T05:54:11.370658Z"
    }
   },
   "cell_type": "code",
   "source": "categorical_cols",
   "id": "7a225eb1c0a7e8a8",
   "execution_count": 53,
   "outputs": []
  },
  {
   "metadata": {
    "ExecuteTime": {
     "end_time": "2025-09-08T05:58:28.893468Z",
     "start_time": "2025-09-08T05:58:28.890036Z"
    }
   },
   "cell_type": "code",
   "source": [
    "full_pipeline = Pipeline(steps=[\n",
    "    ('preprocessor', preprocessor),\n",
    "    ('dt', smote_dt_model)\n",
    "])"
   ],
   "id": "cd7c991d6298d8aa",
   "execution_count": 57,
   "outputs": []
  },
  {
   "metadata": {
    "ExecuteTime": {
     "end_time": "2025-09-08T06:00:26.923767Z",
     "start_time": "2025-09-08T06:00:26.915314Z"
    }
   },
   "cell_type": "code",
   "source": "joblib.dump(full_pipeline, 'Loan_approval_fullpipeline.joblib')",
   "id": "90190521db63b1cf",
   "execution_count": 59,
   "outputs": []
  },
  {
   "metadata": {},
   "cell_type": "code",
   "execution_count": null,
   "source": "",
   "id": "eccfa9e125e9ae87",
   "outputs": []
  }
 ],
 "metadata": {
  "kernelspec": {
   "display_name": "venv (3.12.3)",
   "language": "python",
   "name": "python3"
  },
  "language_info": {
   "codemirror_mode": {
    "name": "ipython",
    "version": 2
   },
   "file_extension": ".py",
   "mimetype": "text/x-python",
   "name": "python",
   "nbconvert_exporter": "python",
   "pygments_lexer": "ipython2",
   "version": "3.12.3"
  }
 },
 "nbformat": 4,
 "nbformat_minor": 5
}
